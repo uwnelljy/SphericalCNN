{
 "cells": [
  {
   "cell_type": "markdown",
   "id": "290962a9",
   "metadata": {},
   "source": [
    "### Create a level=0 spherical mesh"
   ]
  },
  {
   "cell_type": "code",
   "execution_count": 1,
   "id": "353edf1b",
   "metadata": {},
   "outputs": [],
   "source": [
    "import numpy as np\n",
    "import igl\n",
    "import meshplot as mp"
   ]
  },
  {
   "cell_type": "code",
   "execution_count": 175,
   "id": "ce7e4a07",
   "metadata": {},
   "outputs": [
    {
     "data": {
      "application/vnd.jupyter.widget-view+json": {
       "model_id": "85a6dee116a648fb85330815d529da89",
       "version_major": 2,
       "version_minor": 0
      },
      "text/plain": [
       "Renderer(camera=PerspectiveCamera(children=(DirectionalLight(color='white', intensity=0.6, position=(0.0, 0.0,…"
      ]
     },
     "metadata": {},
     "output_type": "display_data"
    },
    {
     "data": {
      "text/plain": [
       "<meshplot.Viewer.Viewer at 0x7fef6917e1d0>"
      ]
     },
     "execution_count": 175,
     "metadata": {},
     "output_type": "execute_result"
    }
   ],
   "source": [
    "# Basic structure: vertices and faces\n",
    "t = (1.0 + 5.0**0.5) / 2.0\n",
    "vertices = [-1, t, 0, 1, t, 0, -1, -t, 0, 1, -t, 0, 0, -1, t, 0, 1, t,\n",
    "            0, -1, -t, 0, 1, -t, t, 0, -1, t, 0, 1, -t, 0, -1, -t, 0, 1]\n",
    "faces = [0, 11, 5, 0, 5, 1, 0, 1, 7, 0, 7, 10, 0, 10, 11,\n",
    "         1, 5, 9, 5, 11, 4, 11, 10, 2, 10, 7, 6, 7, 1, 8,\n",
    "         3, 9, 4, 3, 4, 2, 3, 2, 6, 3, 6, 8, 3, 8, 9,\n",
    "         4, 9, 5, 2, 4, 11, 6, 2, 10, 8, 6, 7, 9, 8, 1]\n",
    "\n",
    "# Ensure that the radius=1\n",
    "vertices = np.reshape(vertices, (-1, 3)) / 1.9021130325903071\n",
    "faces = np.reshape(faces, (-1, 3))\n",
    "\n",
    "# Make a plot of this mesh\n",
    "mp.plot(vertices, faces)"
   ]
  },
  {
   "cell_type": "markdown",
   "id": "749ec4ea",
   "metadata": {},
   "source": [
    "### Subdivide level 0 mesh to level 1, 2, 3, 4, 5..."
   ]
  },
  {
   "cell_type": "code",
   "execution_count": 176,
   "id": "0583ade4",
   "metadata": {},
   "outputs": [],
   "source": [
    "def subdivide_normalize(vertices, faces, radius=1):\n",
    "    face_index = np.arange(len(faces))\n",
    "    faces = faces[face_index]\n",
    "    triangles = vertices[faces]\n",
    "\n",
    "    # all the edges\n",
    "    src_idx = np.vstack([faces[:, g] for g in [[0, 1], [1, 2], [2, 0]]])\n",
    "    # the coordinates of all the mid points on edges\n",
    "    mid = np.vstack([triangles[:, g, :].mean(axis=1) for g in [[0, 1], [1, 2], [2, 0]]])\n",
    "    # each row in mid_idx is the index in mid/src_idx that belongs to the same triangle\n",
    "    mid_idx = (np.arange(len(face_index) * 3)).reshape(3, -1).T\n",
    "\n",
    "    # create hashable rows, confused\n",
    "    mid = np.asanyarray(mid)\n",
    "    digits = 8\n",
    "    mid_max = np.abs(mid).max() * 10 ** digits\n",
    "    dtype = [np.int32, np.int64][int(mid_max > 2 ** 31)]\n",
    "    # convert to int to compare\n",
    "    mid_int = np.round((mid * 10 ** digits) - 1e-6).astype(dtype)  # now the mid is int\n",
    "    # a type that is unique for different values, same for the same value\n",
    "    dtype = np.dtype((np.void, mid_int.dtype.itemsize * mid_int.shape[1]))  # 12\n",
    "    hashes = np.ascontiguousarray(mid_int).view(dtype).reshape(-1)\n",
    "    garbage, unique, inverse = np.unique(hashes, return_index = True, \n",
    "                                         return_inverse = True)\n",
    "\n",
    "    # get unique mid coordinates\n",
    "    mid = mid[unique]\n",
    "    # e.g., mid中的第一个中点坐标对应 src_idx[1]中的位置，即4和5的中点\n",
    "    src_idx = src_idx[unique]  # cooresponding edges (two vertices)\n",
    "    # the following code is creating new vertices (index >= 12), 30 in total\n",
    "    mid_idx = inverse[mid_idx] + len(vertices)  # each row is the edge number that belongs to the same triangle\n",
    "\n",
    "    # create new faces\n",
    "    f = np.column_stack([faces[:, 0], mid_idx[:, 0], mid_idx[:, 2],\n",
    "                        mid_idx[:, 0], faces[:, 1], mid_idx[:, 1],\n",
    "                        mid_idx[:, 2], mid_idx[:, 1], faces[:, 2],\n",
    "                        mid_idx[:, 0], mid_idx[:, 1], mid_idx[:, 2]]).reshape((-1, 3))\n",
    "    new_faces = np.vstack((faces, f[len(face_index):]))\n",
    "    new_faces[face_index] = f[:len(face_index)]  # new_faces == f, so meaningful?\n",
    "\n",
    "    # new vertices\n",
    "    new_vertices = np.vstack((vertices, mid))\n",
    "\n",
    "    # source ids for vertices\n",
    "    nv = vertices.shape[0]\n",
    "    identity_map = np.stack((np.arange(nv), np.arange(nv)), axis=1)\n",
    "    # new_vertices直接堆叠，前面12行都是old vertices\n",
    "    # here src_id也直接堆叠，前面12行都是old vertices，后面是中点所对应的old vertices\n",
    "    src_id = np.concatenate((identity_map, src_idx), axis=0)\n",
    "\n",
    "    # normalize and radius=1\n",
    "    current_distance_from_origin = (new_vertices ** 2).sum(axis=1) ** 0.5\n",
    "    new_vertices = new_vertices/current_distance_from_origin.reshape(-1, 1) * radius\n",
    "    \n",
    "    return new_vertices, new_faces"
   ]
  },
  {
   "cell_type": "code",
   "execution_count": 177,
   "id": "6ec9a038",
   "metadata": {},
   "outputs": [
    {
     "data": {
      "application/vnd.jupyter.widget-view+json": {
       "model_id": "0ef110fbb8014e50986778c3642dabb4",
       "version_major": 2,
       "version_minor": 0
      },
      "text/plain": [
       "Renderer(camera=PerspectiveCamera(children=(DirectionalLight(color='white', intensity=0.6, position=(0.0, 0.0,…"
      ]
     },
     "metadata": {},
     "output_type": "display_data"
    },
    {
     "data": {
      "text/plain": [
       "<meshplot.Viewer.Viewer at 0x7fef69160090>"
      ]
     },
     "execution_count": 177,
     "metadata": {},
     "output_type": "execute_result"
    }
   ],
   "source": [
    "# level 5\n",
    "vertices, faces = subdivide_normalize(vertices, faces)\n",
    "vertices, faces = subdivide_normalize(vertices, faces)\n",
    "vertices, faces = subdivide_normalize(vertices, faces)\n",
    "vertices, faces = subdivide_normalize(vertices, faces)\n",
    "vertices, faces = subdivide_normalize(vertices, faces)\n",
    "# plot\n",
    "mp.plot(vertices, faces)"
   ]
  },
  {
   "cell_type": "markdown",
   "id": "fb7226a8",
   "metadata": {},
   "source": [
    "### Read a 3D file and transform it into mesh"
   ]
  },
  {
   "cell_type": "code",
   "execution_count": 215,
   "id": "eafb0f38",
   "metadata": {},
   "outputs": [
    {
     "data": {
      "application/vnd.jupyter.widget-view+json": {
       "model_id": "9f72919bd2b348449a61b7c3cd49d21e",
       "version_major": 2,
       "version_minor": 0
      },
      "text/plain": [
       "Renderer(camera=PerspectiveCamera(children=(DirectionalLight(color='white', intensity=0.6, position=(-0.000276…"
      ]
     },
     "metadata": {},
     "output_type": "display_data"
    },
    {
     "data": {
      "text/plain": [
       "<meshplot.Viewer.Viewer at 0x7feaa1f073d0>"
      ]
     },
     "execution_count": 215,
     "metadata": {},
     "output_type": "execute_result"
    }
   ],
   "source": [
    "import trimesh\n",
    "\n",
    "file = './ModelNet10/toilet/train/toilet_0002.off'\n",
    "mesh = trimesh.load_mesh(file)\n",
    "mesh.remove_degenerate_faces()  \n",
    "mesh.fix_normals()  \n",
    "mesh.fill_holes()  \n",
    "mesh.remove_duplicate_faces()\n",
    "mesh.remove_infinite_values()\n",
    "mesh.remove_unreferenced_vertices()\n",
    "mesh.apply_translation(-mesh.centroid)\n",
    "r = np.max(np.linalg.norm(mesh.vertices, axis=-1))  # max length from origin\n",
    "mesh.apply_scale(1/r)\n",
    "r = np.max(np.linalg.norm(mesh.vertices, axis=-1))\n",
    "mesh.apply_scale(0.99 / r)\n",
    "mp.plot(np.array(mesh.vertices), np.array(mesh.faces))"
   ]
  },
  {
   "cell_type": "code",
   "execution_count": 310,
   "id": "2b7ff784",
   "metadata": {},
   "outputs": [
    {
     "data": {
      "application/vnd.jupyter.widget-view+json": {
       "model_id": "1f5f4e62f00f49f59a71d654f2a0c8d6",
       "version_major": 2,
       "version_minor": 0
      },
      "text/plain": [
       "Renderer(camera=PerspectiveCamera(children=(DirectionalLight(color='white', intensity=0.6, position=(0.0, 0.0,…"
      ]
     },
     "metadata": {},
     "output_type": "display_data"
    },
    {
     "data": {
      "text/plain": [
       "1"
      ]
     },
     "execution_count": 310,
     "metadata": {},
     "output_type": "execute_result"
    }
   ],
   "source": [
    "p = mp.plot(vertices, shading={'point_size': 0.1}, c='blue')\n",
    "p.add_mesh(np.array(mesh.vertices), np.array(mesh.faces))"
   ]
  },
  {
   "cell_type": "markdown",
   "id": "f7734851",
   "metadata": {},
   "source": [
    "### Project the 3D mesh on sphere mesh"
   ]
  },
  {
   "cell_type": "code",
   "execution_count": 289,
   "id": "f691b094",
   "metadata": {},
   "outputs": [],
   "source": [
    "sgrid = vertices\n",
    "# find the intersections between the current mesh and an array of rays\n",
    "# ray: the vectors' direction\n",
    "# if the direction of one point on mesh is the same as the direction of one point on grid,\n",
    "# then it's an intersection\n",
    "# index_triangle: index of triangles hit (on mesh)\n",
    "# index_ray: index of ray that hit triangle (on spherical mesh)\n",
    "# locations: position of intersection in space\n",
    "\n",
    "def render_model(mesh, sgrid):\n",
    "\n",
    "    # intersects_id: find the intersections between the current mesh and an array of rays.\n",
    "    index_tri, index_ray, loc = mesh.ray.intersects_id(\n",
    "        ray_origins=sgrid, ray_directions=-sgrid, multiple_hits=False, return_locations=True)\n",
    "    loc = loc.reshape((-1, 3))  # fix bug if loc is empty\n",
    "\n",
    "    # Each ray is in 1-to-1 correspondence with a grid point. Find the position of these points\n",
    "    grid_hits = sgrid[index_ray]\n",
    "    grid_hits_normalized = grid_hits / np.linalg.norm(grid_hits, axis=1, keepdims=True)\n",
    "\n",
    "    # Compute the distance from the grid points to the intersection pionts\n",
    "    dist = np.linalg.norm(grid_hits - loc, axis=-1)\n",
    "\n",
    "    # For each intersection, look up the normal of the triangle that was hit\n",
    "    normals = mesh.face_normals[index_tri]\n",
    "    normalized_normals = normals / np.linalg.norm(normals, axis=1, keepdims=True)\n",
    "\n",
    "    # Construct spherical images\n",
    "    dist_im = np.ones(sgrid.shape[0])\n",
    "    dist_im[index_ray] = dist\n",
    "\n",
    "    n_dot_ray_im = np.zeros(sgrid.shape[0])\n",
    "    n_dot_ray_im[index_ray] = np.einsum(\"ij,ij->i\", normalized_normals, grid_hits_normalized)\n",
    "\n",
    "    nx, ny, nz = normalized_normals[:, 0], normalized_normals[:, 1], normalized_normals[:, 2]\n",
    "    gx, gy, gz = grid_hits_normalized[:, 0], grid_hits_normalized[:, 1], grid_hits_normalized[:, 2]\n",
    "    wedge_norm = np.sqrt((nx * gy - ny * gx) ** 2 + (nx * gz - nz * gx) ** 2 + (ny * gz - nz * gy) ** 2)\n",
    "    n_wedge_ray_im = np.zeros(sgrid.shape[0])\n",
    "    n_wedge_ray_im[index_ray] = wedge_norm\n",
    "\n",
    "    # Combine channels to construct final image\n",
    "    im = np.stack((dist_im, n_dot_ray_im, n_wedge_ray_im), axis=0)\n",
    "\n",
    "    return im\n",
    "\n",
    "# location = location.reshape((-1, 3))\n",
    "# # Each ray is in 1-to-1 correspondence with a grid point. \n",
    "# # Find the position of these points on spherical mesh\n",
    "# # mesh上的第一个点对应的并不一定是spherical上的第一个点\n",
    "# # index_ray[0] = 500: mesh上第一个intersection点对应的是spherical上第501个点\n",
    "# # grid_hits就是与mesh上的点的先后次序对应的点在spherical上的位置\n",
    "# # location就是mesh上的对应点\n",
    "# # 所以spherical上每个点都能找到mesh上的对应点\n",
    "# grid_hits = sgrid[index_ray]  # grid_hits[0]: mesh上的第一个intersection点对应的spherica上的点\n",
    "# grid_hits_normalized = grid_hits / np.linalg.norm(grid_hits, axis=1, keepdims=True)\n",
    "# grid_hits_normalized  # follows the index of mesh. \n",
    "\n",
    "# # Compute the distance from the grid points to the intersection points\n",
    "# dist = np.linalg.norm(grid_hits-location, axis=-1)\n",
    "# # For each intersection, look up the normal of the triangle that was hit\n",
    "# # index_triangle[0] = 500: spherical上的第一个三角形对应mesh上第501个三角形\n",
    "# normals = mesh.face_normals[index_triangle]  # normals[0]: spherical上的第一个三角形法向量\n",
    "# normalized_normals = normals / np.linalg.norm(normals, axis=1, keepdims=True)\n",
    "\n",
    "# # Construct spherical images\n",
    "# dist_im = np.ones(sgrid.shape[0])  # number of vertices\n",
    "# dist_im[index_ray] = dist  # dist_im[0]: spherical上第1个点\n",
    "# n_dot_ray_im = np.zeros(sgrid.shape[0])\n",
    "# # ij,ij->i: 两个矩阵相对应元素相乘，然后每一行相加\n",
    "# n_dot_ray_im[index_ray] = np.einsum(\"ij,ij->i\", normalized_normals, grid_hits_normalized)\n",
    "# nx, ny, nz = normalized_normals[:, 0], normalized_normals[:, 1], normalized_normals[:, 2]\n",
    "# gx, gy, gz = grid_hits_normalized[:, 0], grid_hits_normalized[:, 1], grid_hits_normalized[:, 2]\n",
    "# wedge_norm = np.sqrt((nx * gy - ny * gx) ** 2 + (nx * gz - nz * gx) ** 2 + (ny * gz - nz * gy) ** 2)\n",
    "# n_wedge_ray_im = np.zeros(sgrid.shape[0])\n",
    "# n_wedge_ray_im[index_ray] = wedge_norm\n",
    "\n",
    "# # Combine channels to construct final image\n",
    "# im = np.stack((dist_im, n_dot_ray_im, n_wedge_ray_im), axis=0)"
   ]
  },
  {
   "cell_type": "code",
   "execution_count": 300,
   "id": "d0bf043e",
   "metadata": {},
   "outputs": [],
   "source": [
    "im = render_model(mesh, sgrid)"
   ]
  },
  {
   "cell_type": "code",
   "execution_count": 301,
   "id": "43ea2339",
   "metadata": {},
   "outputs": [],
   "source": [
    "convex_hull = mesh.convex_hull\n",
    "hull_im = render_model(convex_hull, sgrid)"
   ]
  },
  {
   "cell_type": "code",
   "execution_count": 331,
   "id": "2a554c5c",
   "metadata": {},
   "outputs": [
    {
     "data": {
      "text/plain": [
       "(array([[-0.71702665, -0.72715175, -0.8762386 , ..., -0.01338598,\n",
       "          0.6705858 , -0.13367444],\n",
       "        [ 1.1232166 ,  1.1213844 ,  0.5195044 , ...,  0.183421  ,\n",
       "          0.7614251 ,  0.08527821],\n",
       "        [-1.2957592 , -1.2896465 , -0.1028824 , ...,  0.28605962,\n",
       "         -0.46548814,  0.3818975 ],\n",
       "        [ 0.131636  ,  0.11824942, -0.16897903, ..., -0.04301364,\n",
       "         -0.0748614 , -0.11530923],\n",
       "        [ 1.0198    ,  1.0208807 ,  0.5433631 , ..., -0.69847643,\n",
       "          0.42226028, -0.79350406],\n",
       "        [-1.2120478 , -1.2149274 , -0.32077712, ...,  0.8737402 ,\n",
       "         -0.15824223,  0.93638355]], dtype=float32),\n",
       " (6, 10242))"
      ]
     },
     "execution_count": 331,
     "metadata": {},
     "output_type": "execute_result"
    }
   ],
   "source": [
    "im_concate = np.concatenate([im, hull_im], axis=0)\n",
    "# take absolute value of normal\n",
    "im_concate[1] = np.absolute(im_concate[1])\n",
    "im_concate[4] = np.absolute(im_concate[4])\n",
    "im_concate[0] -= 0.7203571\n",
    "im_concate[0] /= 0.2807092\n",
    "im_concate[1] -= 0.6721025\n",
    "im_concate[1] /= 0.2561926\n",
    "im_concate[2] -= 0.6199647\n",
    "im_concate[2] /= 0.26200315\n",
    "im_concate[3] -= 0.49367973\n",
    "im_concate[3] /= 0.19068004\n",
    "im_concate[4] -= 0.7766791\n",
    "im_concate[4] /= 0.17894566\n",
    "im_concate[5] -= 0.55923575\n",
    "im_concate[5] /= 0.22804247\n",
    "im_concate = im_concate.astype(np.float32)\n",
    "im_concate, im_concate.shape"
   ]
  },
  {
   "cell_type": "code",
   "execution_count": 312,
   "id": "f576c759",
   "metadata": {},
   "outputs": [
    {
     "data": {
      "application/vnd.jupyter.widget-view+json": {
       "model_id": "ae85576458714d4b9247711dee1f144a",
       "version_major": 2,
       "version_minor": 0
      },
      "text/plain": [
       "Renderer(camera=PerspectiveCamera(children=(DirectionalLight(color='white', intensity=0.6, position=(0.0, 0.0,…"
      ]
     },
     "metadata": {},
     "output_type": "display_data"
    },
    {
     "data": {
      "text/plain": [
       "1"
      ]
     },
     "execution_count": 312,
     "metadata": {},
     "output_type": "execute_result"
    }
   ],
   "source": [
    "p = mp.plot(vertices, shading={'point_size': 0.1}, c='blue')\n",
    "p.add_mesh(np.array(mesh.vertices), np.array(mesh.faces))"
   ]
  },
  {
   "cell_type": "code",
   "execution_count": 395,
   "id": "d42716ae",
   "metadata": {},
   "outputs": [
    {
     "data": {
      "text/plain": [
       "(10242, 20480)"
      ]
     },
     "execution_count": 395,
     "metadata": {},
     "output_type": "execute_result"
    }
   ],
   "source": [
    "from scipy import sparse\n",
    "\n",
    "i = faces.ravel()  # flattened array\n",
    "nf = len(faces)\n",
    "nv = len(vertices)\n",
    "j = np.arange(nf).repeat(3)  # [000111222333...]\n",
    "one = np.ones(nf * 3)\n",
    "adj = sparse.csc_matrix((one, (i, j)), shape=(nv, nf))  # triangles share a common vertices\n",
    "A = igl.doublearea(vertices, faces)\n",
    "tot_area = adj.dot(A)  # total area of triangles sharing a common vertices\n",
    "norm_area = A.ravel().repeat(3)/np.squeeze(tot_area[i])\n",
    "# 第j个三角形在以i为顶点的总面积里占的比例\n",
    "F2V = sparse.csc_matrix((norm_area, (i, j)), shape=(nv, nf))\n",
    "F2V.shape"
   ]
  },
  {
   "cell_type": "code",
   "execution_count": 381,
   "id": "931a7cdb",
   "metadata": {},
   "outputs": [
    {
     "name": "stdout",
     "output_type": "stream",
     "text": [
      "  (0, 0)\t8.987198413922279\n",
      "  (1024, 0)\t-24.981646482894234\n",
      "  (2048, 0)\t-24.981646482894234\n",
      "  (3072, 0)\t8.987198413922279\n",
      "  (4096, 0)\t29.981099118728356\n",
      "  (20480, 0)\t6.452308207440652\n",
      "  (21504, 0)\t-14.541592497365418\n",
      "  (22528, 0)\t-14.541592497365418\n",
      "  (23552, 0)\t6.45230820744065\n",
      "  (24576, 0)\t19.42725239945114\n",
      "  (40960, 0)\t-33.968844896816556\n",
      "  (41984, 0)\t-20.993900704805995\n",
      "  (43008, 0)\t20.993900704805995\n",
      "  (44032, 0)\t33.968844896816556\n",
      "  (45056, 0)\t0.0\n",
      "  (1706, 1)\t24.981646482894238\n",
      "  (2389, 1)\t24.981646482894238\n",
      "  (5120, 1)\t-8.987198413922279\n",
      "  (9557, 1)\t-8.987198413922272\n",
      "  (20138, 1)\t-29.981099118728356\n",
      "  (22186, 1)\t-14.54159249736542\n",
      "  (22869, 1)\t-14.54159249736542\n",
      "  (25600, 1)\t6.45230820744065\n",
      "  (30037, 1)\t6.452308207440649\n",
      "  (40618, 1)\t19.42725239945114\n",
      "  :\t:\n",
      "  (27471, 10240)\t25.258691181621128\n",
      "  (47937, 10240)\t14.658110097171509\n",
      "  (47938, 10240)\t-8.149352948635887\n",
      "  (47939, 10240)\t5.92867864872974\n",
      "  (47948, 10240)\t9.340688668774494\n",
      "  (47950, 10240)\t-13.513318532391779\n",
      "  (47951, 10240)\t-4.763223187339384\n",
      "  (9089, 10241)\t-12.581047858452312\n",
      "  (9090, 10241)\t24.371752907629435\n",
      "  (9091, 10241)\t12.1341940089273\n",
      "  (9100, 10241)\t-25.002120141754514\n",
      "  (9102, 10241)\t11.927903317305043\n",
      "  (9103, 10241)\t-12.750072618091334\n",
      "  (29569, 10241)\t-25.458015577776134\n",
      "  (29570, 10241)\t0.02029001796230935\n",
      "  (29571, 10241)\t-25.41799506809907\n",
      "  (29580, 10241)\t-0.13579108635722914\n",
      "  (29582, 10241)\t25.333177767809882\n",
      "  (29583, 10241)\t25.258691181621128\n",
      "  (50049, 10241)\t8.149352948635887\n",
      "  (50050, 10241)\t-14.658110097171509\n",
      "  (50051, 10241)\t-5.928678648729738\n",
      "  (50060, 10241)\t13.513318532391779\n",
      "  (50062, 10241)\t-9.34068866877449\n",
      "  (50063, 10241)\t4.763223187339384\n",
      "tensor([[    0,  1024,  2048,  ..., 50060, 50062, 50063],\n",
      "        [    0,     0,     0,  ..., 10241, 10241, 10241]]) tensor([  8.9872, -24.9816, -24.9816,  ...,  13.5133,  -9.3407,   4.7632])\n"
     ]
    },
    {
     "ename": "TypeError",
     "evalue": "mm(): argument 'input' (position 1) must be Tensor, not coo_matrix",
     "output_type": "error",
     "traceback": [
      "\u001b[0;31m---------------------------------------------------------------------------\u001b[0m",
      "\u001b[0;31mTypeError\u001b[0m                                 Traceback (most recent call last)",
      "\u001b[0;32m<ipython-input-381-b11eff4708f2>\u001b[0m in \u001b[0;36m<module>\u001b[0;34m\u001b[0m\n\u001b[1;32m     19\u001b[0m \u001b[0mnew_len\u001b[0m \u001b[0;34m=\u001b[0m \u001b[0mgradient_t\u001b[0m\u001b[0;34m.\u001b[0m\u001b[0msize\u001b[0m\u001b[0;34m(\u001b[0m\u001b[0;34m)\u001b[0m\u001b[0;34m[\u001b[0m\u001b[0;36m0\u001b[0m\u001b[0;34m]\u001b[0m\u001b[0;34m\u001b[0m\u001b[0;34m\u001b[0m\u001b[0m\n\u001b[1;32m     20\u001b[0m \u001b[0mim_concate_t\u001b[0m \u001b[0;34m=\u001b[0m \u001b[0mim_concate_t\u001b[0m\u001b[0;34m.\u001b[0m\u001b[0mpermute\u001b[0m\u001b[0;34m(\u001b[0m\u001b[0;36m2\u001b[0m\u001b[0;34m,\u001b[0m \u001b[0;36m1\u001b[0m\u001b[0;34m,\u001b[0m \u001b[0;36m0\u001b[0m\u001b[0;34m)\u001b[0m\u001b[0;34m.\u001b[0m\u001b[0mcontiguous\u001b[0m\u001b[0;34m(\u001b[0m\u001b[0;34m)\u001b[0m\u001b[0;34m.\u001b[0m\u001b[0mview\u001b[0m\u001b[0;34m(\u001b[0m\u001b[0mnumber_vertices\u001b[0m\u001b[0;34m,\u001b[0m \u001b[0;34m-\u001b[0m\u001b[0;36m1\u001b[0m\u001b[0;34m)\u001b[0m\u001b[0;34m\u001b[0m\u001b[0;34m\u001b[0m\u001b[0m\n\u001b[0;32m---> 21\u001b[0;31m \u001b[0mt\u001b[0m\u001b[0;34m.\u001b[0m\u001b[0mspmm\u001b[0m\u001b[0;34m(\u001b[0m\u001b[0mgradient\u001b[0m\u001b[0;34m,\u001b[0m \u001b[0mim_concate_t\u001b[0m\u001b[0;34m)\u001b[0m\u001b[0;34m\u001b[0m\u001b[0;34m\u001b[0m\u001b[0m\n\u001b[0m",
      "\u001b[0;31mTypeError\u001b[0m: mm(): argument 'input' (position 1) must be Tensor, not coo_matrix"
     ]
    }
   ],
   "source": [
    "gradient = igl.grad(vertices, faces)  # level 5\n",
    "laplacian = igl.cotmatrix(vertices, faces)\n",
    "N = igl.per_face_normals(vertices, faces, np.array([0.0, 0.0, 0.0]))\n",
    "\n",
    "\n",
    "gradient = gradient.tocoo()\n",
    "print(gradient)\n",
    "\n",
    "import torch as t\n",
    "\n",
    "im_concate_t = t.from_numpy(im_concate)\n",
    "im_concate_t = im_concate_t.unsqueeze(0)\n",
    "batch_size, in_chan, number_vertices = im_concate_t.size()\n",
    "\n",
    "# convert sparse to tensor\n",
    "i = t.LongTensor([gradient.row, gradient.col])\n",
    "v = t.FloatTensor(gradient.data)\n",
    "print(i, v)\n",
    "new_len = gradient_t.size()[0]\n",
    "im_concate_t = im_concate_t.permute(2, 1, 0).contiguous().view(number_vertices, -1)\n",
    "t.spmm(gradient, im_concate_t)"
   ]
  },
  {
   "cell_type": "code",
   "execution_count": 353,
   "id": "03eb624e",
   "metadata": {},
   "outputs": [
    {
     "data": {
      "text/plain": [
       "(tensor([[8.9872, 0.0000, 0.0000,  ..., 0.0000, 0.0000, 0.0000],\n",
       "         [0.0000, 0.0000, 0.0000,  ..., 0.0000, 0.0000, 0.0000],\n",
       "         [0.0000, 0.0000, 0.0000,  ..., 0.0000, 0.0000, 0.0000],\n",
       "         ...,\n",
       "         [0.0000, 0.0000, 0.0000,  ..., 0.0000, 0.0000, 0.0000],\n",
       "         [0.0000, 0.0000, 0.0000,  ..., 0.0000, 0.0000, 0.0000],\n",
       "         [0.0000, 0.0000, 0.0000,  ..., 0.0000, 0.0000, 0.0000]],\n",
       "        dtype=torch.float64),\n",
       " tensor([[-0.7170,  1.1232, -1.2958,  0.1316,  1.0198, -1.2120],\n",
       "         [-0.7272,  1.1214, -1.2896,  0.1182,  1.0209, -1.2149],\n",
       "         [-0.8762,  0.5195, -0.1029, -0.1690,  0.5434, -0.3208],\n",
       "         ...,\n",
       "         [-0.0134,  0.1834,  0.2861, -0.0430, -0.6985,  0.8737],\n",
       "         [ 0.6706,  0.7614, -0.4655, -0.0749,  0.4223, -0.1582],\n",
       "         [-0.1337,  0.0853,  0.3819, -0.1153, -0.7935,  0.9364]]))"
      ]
     },
     "execution_count": 353,
     "metadata": {},
     "output_type": "execute_result"
    }
   ],
   "source": [
    "gradient_t, im_concate_t"
   ]
  },
  {
   "cell_type": "code",
   "execution_count": 318,
   "id": "9f43d2ae",
   "metadata": {},
   "outputs": [
    {
     "data": {
      "text/plain": [
       "61440"
      ]
     },
     "execution_count": 318,
     "metadata": {},
     "output_type": "execute_result"
    }
   ],
   "source": [
    "len(faces)*3"
   ]
  },
  {
   "cell_type": "code",
   "execution_count": 328,
   "id": "ec46967a",
   "metadata": {},
   "outputs": [
    {
     "data": {
      "text/plain": [
       "(61440, 10242)"
      ]
     },
     "execution_count": 328,
     "metadata": {},
     "output_type": "execute_result"
    }
   ],
   "source": [
    "gradient.shape"
   ]
  },
  {
   "cell_type": "code",
   "execution_count": null,
   "id": "0fdf857e",
   "metadata": {},
   "outputs": [],
   "source": []
  }
 ],
 "metadata": {
  "kernelspec": {
   "display_name": "Python 3",
   "language": "python",
   "name": "python3"
  },
  "language_info": {
   "codemirror_mode": {
    "name": "ipython",
    "version": 3
   },
   "file_extension": ".py",
   "mimetype": "text/x-python",
   "name": "python",
   "nbconvert_exporter": "python",
   "pygments_lexer": "ipython3",
   "version": "3.7.6"
  }
 },
 "nbformat": 4,
 "nbformat_minor": 5
}
